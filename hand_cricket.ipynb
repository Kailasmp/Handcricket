{
 "cells": [
  {
   "cell_type": "code",
   "execution_count": 1,
   "id": "a216a65d-2f9a-4023-b1cc-d447ba5e3628",
   "metadata": {},
   "outputs": [
    {
     "name": "stdin",
     "output_type": "stream",
     "text": [
      "Choose Even or Odd:  odd\n",
      "choose 1 to 6 for Toss 4\n"
     ]
    },
    {
     "name": "stdout",
     "output_type": "stream",
     "text": [
      "Computer wins the toss\n",
      "Computer chooses to bowl.\n",
      "Computer is bowling first!\n"
     ]
    },
    {
     "name": "stdin",
     "output_type": "stream",
     "text": [
      "Enter a number between 1 and 6:  2\n"
     ]
    },
    {
     "name": "stdout",
     "output_type": "stream",
     "text": [
      "You chose: 2, Computer chose: 6.\n",
      "User score: 2\n"
     ]
    },
    {
     "name": "stdin",
     "output_type": "stream",
     "text": [
      "Enter a number between 1 and 6:  3\n"
     ]
    },
    {
     "name": "stdout",
     "output_type": "stream",
     "text": [
      "You chose: 3, Computer chose: 3.\n",
      "user is out!\n",
      "Now the computer will bat.\n"
     ]
    },
    {
     "name": "stdin",
     "output_type": "stream",
     "text": [
      "Enter a number between 1 and 6:  2\n"
     ]
    },
    {
     "name": "stdout",
     "output_type": "stream",
     "text": [
      "You chose: 2, Computer chose: 5.\n",
      "Computer score: 5\n",
      "Computer has surpassed the target!\n",
      "Computer wins! Better luck next time.\n"
     ]
    }
   ],
   "source": [
    "import random\n",
    "\n",
    "def userchoice():\n",
    "    choice = input(\"Choose Even or Odd: \").strip().lower()\n",
    "    while choice not in [\"even\", \"odd\"]:\n",
    "        choice = input(\"Invalid choice. Please choose 'Even' or 'Odd': \").strip().lower()\n",
    "    return choice\n",
    "\n",
    "def toss(a):\n",
    "    inp=int(input(\"choose 1 to 6 for Toss\"))\n",
    "    coin = random.randint(0,6)\n",
    "    tot=inp+coin\n",
    "    if (tot % 2 == 0 and userchoice == \"even\") or (tot % 2 != 0 and userchoice == \"odd\"):\n",
    "        print(\"User win the toss\")\n",
    "        return \"user\"\n",
    "    else:\n",
    "        print(\"Computer wins the toss\")\n",
    "        return \"computer\"\n",
    "\n",
    "def batorbowl(twin):\n",
    "    if twin == \"user\":\n",
    "        decision = input(\"Enter 1 to Bat or 0 to Bowl : \")\n",
    "    else:\n",
    "        decision = random.choice([\"bat\", \"bowl\"])\n",
    "        print(f\"Computer chooses to {decision}.\")\n",
    "    return decision\n",
    "\n",
    "def match(player, target=None):\n",
    "    score = 0\n",
    "    while True:\n",
    "        player_inp = int(input(\"Enter a number between 1 and 6: \"))\n",
    "        comp_inp = random.randint(1, 6)\n",
    "        print(f\"You chose: {player_inp}, Computer chose: {comp_inp}.\")\n",
    "       \n",
    "        if player_inp == comp_inp:\n",
    "            print(f\"{player} is out!\")\n",
    "            break\n",
    "        else:\n",
    "            score += player_inp if player == \"user\" else comp_inp\n",
    "            print(f\"{player.capitalize()} score: {score}\")\n",
    "\n",
    "        if target and score > target:\n",
    "            print(f\"{player.capitalize()} has surpassed the target!\")\n",
    "            break\n",
    "\n",
    "    return score\n",
    "\n",
    "\n",
    "    \n",
    "def handcricket():\n",
    "#\n",
    "    a=userchoice()\n",
    "    twin=toss(a)\n",
    "    decision=batorbowl(twin)\n",
    "    if twin == \"user\":\n",
    "        if decision == \"bat\":\n",
    "            print(\"You are batting first!\")\n",
    "            user_score = match(\"user\")\n",
    "            print(\"Now the computer will bat.\")\n",
    "            computer_score = match(\"computer\", target=user_score)\n",
    "        else:\n",
    "            print(\"You are bowling first!\")\n",
    "            computer_score = match(\"computer\")\n",
    "            print(\"Now you will bat.\")\n",
    "            user_score = match(\"user\", target=computer_score)\n",
    "    else:\n",
    "        if decision == \"bat\":\n",
    "            print(\"Computer is batting first!\")\n",
    "            computer_score = match(\"computer\")\n",
    "            print(\"Now you will bat.\")\n",
    "            user_score = match(\"user\", target=computer_score)\n",
    "        else:\n",
    "            print(\"Computer is bowling first!\")\n",
    "            user_score = match(\"user\")\n",
    "            print(\"Now the computer will bat.\")\n",
    "            computer_score = match(\"computer\", target=user_score)\n",
    "\n",
    "    if user_score > computer_score:\n",
    "        print(\"Congratulations! You win!\")\n",
    "    elif user_score < computer_score:\n",
    "        print(\"Computer wins! Better luck next time.\")\n",
    "    else:\n",
    "        print(\"It's a tie!\")\n",
    "\n",
    "handcricket()\n"
   ]
  },
  {
   "cell_type": "code",
   "execution_count": null,
   "id": "1be9b76d-96be-410b-b0ba-fbbd03ca0ed2",
   "metadata": {},
   "outputs": [],
   "source": [
    "import 'package:flutter/material.dart';\n",
    "\n",
    "void main() {\n",
    "  runApp(ProfileApp());\n",
    "}\n",
    "\n",
    "class ProfileApp extends StatelessWidget {\n",
    "  @override\n",
    "  Widget build(BuildContext context) {\n",
    "    return MaterialApp(\n",
    "      debugShowCheckedModeBanner: false,\n",
    "      home: ProfileScreen(),\n",
    "    );\n",
    "  }\n",
    "}\n",
    "\n",
    "class ProfileScreen extends StatelessWidget {\n",
    "  @override\n",
    "  Widget build(BuildContext context) {\n",
    "    return Scaffold(\n",
    "      appBar: AppBar(\n",
    "        title: Text('Kailas M P '),\n",
    "        centerTitle: true,\n",
    "        backgroundColor: Colors.teal,\n",
    "      ),\n",
    "      body: Padding(\n",
    "        padding: const EdgeInsets.all(16.0),\n",
    "        child: Center(\n",
    "          child: Column(\n",
    "            mainAxisAlignment: MainAxisAlignment.center,\n",
    "            children: <Widget>[\n",
    "              // Display your name\n",
    "              Text(\n",
    "                'Kailas MP',\n",
    "                style: TextStyle(\n",
    "                  fontSize: 28,\n",
    "                  fontWeight: FontWeight.bold,\n",
    "                  color: Colors.teal,\n",
    "                ),\n",
    "              ),\n",
    "              SizedBox(height: 10), // Spacing between texts\n",
    "              \n",
    "              // Display your role or profession\n",
    "              Text(\n",
    "                'Student | Flutter Developer | Data Science Enthusiast',\n",
    "                style: TextStyle(\n",
    "                  fontSize: 18,\n",
    "                  color: Colors.grey[700],\n",
    "                ),\n",
    "                textAlign: TextAlign.center,\n",
    "              ),\n",
    "              SizedBox(height: 20), // Additional spacing between texts\n",
    "\n",
    "              // Display your interests or extra info\n",
    "              Text(\n",
    "                'Aspiring to build beautiful and functional apps\\nPassionate about learning data science and analytics',\n",
    "                style: TextStyle(\n",
    "                  fontSize: 16,\n",
    "                  color: Colors.grey[600],\n",
    "                ),\n",
    "                textAlign: TextAlign.center,\n",
    "              ),\n",
    "            ],\n",
    "          ),\n",
    "        ),\n",
    "      ),\n",
    "    );\n",
    "  }\n",
    "}\n"
   ]
  }
 ],
 "metadata": {
  "kernelspec": {
   "display_name": "Python 3 (ipykernel)",
   "language": "python",
   "name": "python3"
  },
  "language_info": {
   "codemirror_mode": {
    "name": "ipython",
    "version": 3
   },
   "file_extension": ".py",
   "mimetype": "text/x-python",
   "name": "python",
   "nbconvert_exporter": "python",
   "pygments_lexer": "ipython3",
   "version": "3.12.4"
  }
 },
 "nbformat": 4,
 "nbformat_minor": 5
}
